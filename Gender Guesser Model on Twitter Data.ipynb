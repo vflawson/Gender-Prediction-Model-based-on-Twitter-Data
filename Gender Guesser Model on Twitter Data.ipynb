{
 "cells": [
  {
   "cell_type": "markdown",
   "id": "c86bd427",
   "metadata": {},
   "source": [
    "## Gender Prediction\n",
    "##### Predict gender of Twitter users based on display name using gender_guesser package"
   ]
  },
  {
   "cell_type": "code",
   "execution_count": null,
   "id": "a8dc17e2",
   "metadata": {},
   "outputs": [],
   "source": [
    "import gender_guesser.detector as gender"
   ]
  },
  {
   "cell_type": "code",
   "execution_count": null,
   "id": "aa4d9ecf",
   "metadata": {},
   "outputs": [],
   "source": [
    "data=pd.read_csv(\"twitter.csv\")"
   ]
  },
  {
   "cell_type": "code",
   "execution_count": null,
   "id": "e4de1f9d",
   "metadata": {},
   "outputs": [],
   "source": [
    "data[\"First Name\"]=data[\"DISPLAY NAME\"].apply(lambda x: str.split(x, \" \")[0])"
   ]
  },
  {
   "cell_type": "code",
   "execution_count": null,
   "id": "f5d7b1ab",
   "metadata": {},
   "outputs": [],
   "source": [
    "d = gender.Detector()"
   ]
  },
  {
   "cell_type": "markdown",
   "id": "cd17b29a",
   "metadata": {},
   "source": [
    "#### Allows for location-specific prediction based on first names of users"
   ]
  },
  {
   "cell_type": "code",
   "execution_count": null,
   "id": "05aeb278",
   "metadata": {},
   "outputs": [],
   "source": [
    "data[\"Sex\"]=data[\"First Name\"].apply(lambda x: d.get_gender(x, u'great_britain'))"
   ]
  },
  {
   "cell_type": "code",
   "execution_count": null,
   "id": "d916ab89",
   "metadata": {},
   "outputs": [],
   "source": [
    "data[\"Sex\"]=data[\"Sex\"].mask(data[\"Sex\"] == \"mostly_male\", 'male')\n",
    "data[\"Sex\"]=data[\"Sex\"].mask(data[\"Sex\"] == \"mostly_female\", 'female')"
   ]
  },
  {
   "cell_type": "code",
   "execution_count": null,
   "id": "0efacb45",
   "metadata": {},
   "outputs": [],
   "source": [
    "data[\"Sex\"].value_counts()"
   ]
  },
  {
   "cell_type": "code",
   "execution_count": null,
   "id": "5fa52f73",
   "metadata": {},
   "outputs": [],
   "source": [
    "data.to_csv(\"twitter_sex.csv\")"
   ]
  }
 ],
 "metadata": {
  "kernelspec": {
   "display_name": "Python 3",
   "language": "python",
   "name": "python3"
  },
  "language_info": {
   "codemirror_mode": {
    "name": "ipython",
    "version": 3
   },
   "file_extension": ".py",
   "mimetype": "text/x-python",
   "name": "python",
   "nbconvert_exporter": "python",
   "pygments_lexer": "ipython3",
   "version": "3.8.8"
  }
 },
 "nbformat": 4,
 "nbformat_minor": 5
}
